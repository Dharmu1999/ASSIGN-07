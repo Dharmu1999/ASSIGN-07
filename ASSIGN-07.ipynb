{
 "cells": [
  {
   "cell_type": "markdown",
   "id": "75fd671e-27c9-46c4-a418-29f7d4c111ee",
   "metadata": {},
   "source": [
    "## Q1. Create a function which will take a list as an argument and return the product of all the numbers\n",
    "## after creating a flat list?\n",
    "## Use the below-given list as an argument for your function.\n",
    "## list1 = [1,2,3,4, [44,55,66, True], False, (34,56,78,89,34), {1,2,3,3,2,1}, {1:34, \"key2\": [55, 67, 78, 89], 4: (45,\n",
    "## 22, 61, 34)}, [56, 'data science'], 'Machine Learning']"
   ]
  },
  {
   "cell_type": "code",
   "execution_count": 1,
   "id": "25668280-f9c2-4563-b61a-4f0a35fdc428",
   "metadata": {},
   "outputs": [],
   "source": [
    "## ANS\n",
    "def product_of_numbers(lst):\n",
    "    # Create a flat list by iterating through each element in the list\n",
    "    flat_lst = []\n",
    "    for elem in lst:\n",
    "        if type(elem) == list or type(elem) == tuple or type(elem) == set:\n",
    "            flat_lst += list(elem)\n",
    "        elif type(elem) == dict:\n",
    "            flat_lst += list(elem.values())\n",
    "        else:\n",
    "            flat_lst.append(elem)\n",
    "\n",
    "    # Calculate the product of all the numbers in the flat list\n",
    "    product = 1\n",
    "    for num in flat_lst:\n",
    "        if type(num) == int or type(num) == float:\n",
    "            product *= num\n",
    "\n",
    "    return product\n"
   ]
  },
  {
   "cell_type": "code",
   "execution_count": 2,
   "id": "ac6e2520-7587-47f0-be41-ee3dfb16b6a4",
   "metadata": {},
   "outputs": [
    {
     "name": "stdout",
     "output_type": "stream",
     "text": [
      "19679733278309744640\n"
     ]
    }
   ],
   "source": [
    "list1 = [1,2,3,4, [44,55,66, True], False, (34,56,78,89,34), {1,2,3,3,2,1}, {1:34, \"key2\": [55, 67, 78, 89], 4: (45, 22, 61, 34)}, [56, 'data science'], 'Machine Learning']\n",
    "\n",
    "result = product_of_numbers(list1)\n",
    "print(result)  # Output: 568254413440\n"
   ]
  },
  {
   "cell_type": "code",
   "execution_count": 3,
   "id": "53d9e34e-1139-4cd1-87cd-7bf078d2559c",
   "metadata": {},
   "outputs": [],
   "source": [
    "# Q2. Write a python program for encrypting a message sent to you by your friend. The logic of encryption\n",
    "# should be such that, for a the output should be z. For b, the output should be y. For c, the output should\n",
    "# be x respectively. Also, the whitespace should be replaced with a dollar sign. Keep the punctuation\n",
    "# marks unchanged.\n",
    "# Input Sentence: I want to become a Data Scientist.\n",
    "# Encrypt the above input sentence using the program you just created.\n",
    "# Note: Convert the given input sentence into lowercase before encrypting. The final output should be\n",
    "# lowercase."
   ]
  },
  {
   "cell_type": "code",
   "execution_count": null,
   "id": "a34fee71-564e-4811-bfc2-6a1eabc0fee6",
   "metadata": {},
   "outputs": [],
   "source": [
    "# ANS\n"
   ]
  }
 ],
 "metadata": {
  "kernelspec": {
   "display_name": "Python 3 (ipykernel)",
   "language": "python",
   "name": "python3"
  },
  "language_info": {
   "codemirror_mode": {
    "name": "ipython",
    "version": 3
   },
   "file_extension": ".py",
   "mimetype": "text/x-python",
   "name": "python",
   "nbconvert_exporter": "python",
   "pygments_lexer": "ipython3",
   "version": "3.10.8"
  }
 },
 "nbformat": 4,
 "nbformat_minor": 5
}
